{
  "nbformat": 4,
  "nbformat_minor": 0,
  "metadata": {
    "colab": {
      "name": "WhenToInterrupt_LSTM.ipynb",
      "provenance": [],
      "collapsed_sections": [],
      "include_colab_link": true
    },
    "kernelspec": {
      "name": "python3",
      "display_name": "Python 3"
    }
  },
  "cells": [
    {
      "cell_type": "markdown",
      "metadata": {
        "id": "view-in-github",
        "colab_type": "text"
      },
      "source": [
        "<a href=\"https://colab.research.google.com/github/wanyane/Customer-Confusion-Detection-Using-VTNET/blob/main/WhenToInterrupt_LSTM.ipynb\" target=\"_parent\"><img src=\"https://colab.research.google.com/assets/colab-badge.svg\" alt=\"Open In Colab\"/></a>"
      ]
    },
    {
      "cell_type": "code",
      "metadata": {
        "colab": {
          "base_uri": "https://localhost:8080/"
        },
        "id": "LSM-af-Kuwdv",
        "outputId": "a4cea45f-040f-4565-88dd-9ffb17161fd9"
      },
      "source": [
        "import os\n",
        "import tensorflow as tf\n",
        "import tensorflow.keras as keras\n",
        "import numpy as np\n",
        "from google.colab import drive\n",
        "from sklearn.preprocessing import MinMaxScaler\n",
        "from sklearn.preprocessing import StandardScaler\n",
        "from PIL import Image\n",
        "\n",
        "# drive.mount('/content/gdrive')\n",
        "print('tf: %s, keras: %s, np: %s'%(tf.__version__, keras.__version__, np.__version__))"
      ],
      "execution_count": 3,
      "outputs": [
        {
          "output_type": "stream",
          "text": [
            "Mounted at /content/gdrive\n",
            "tf: 2.3.0, keras: 2.4.0, np: 1.18.5\n"
          ],
          "name": "stdout"
        }
      ]
    },
    {
      "cell_type": "code",
      "metadata": {
        "id": "gn-zkces7G4A",
        "colab": {
          "base_uri": "https://localhost:8080/"
        },
        "outputId": "fa7ccbac-c795-4625-8f34-e1e1bf65fdce"
      },
      "source": [
        "import numpy as np\n",
        "import tensorflow as tf\n",
        "\n",
        "TIME_STEPS = 21\n",
        "TRANING_DATA_SIZE = 36000\n",
        "FEATURE_DIM = 6 # tr0, tr1, tr2, ori0, ori1, ori2\n",
        "\n",
        "# DATA_DIR = './gdrive/Shareddrives/WHEN_TO_INTERRUPT/Winston/data/'\n",
        "x = np.load(DATA_DIR + 'x.npy', allow_pickle=True)\n",
        "y = np.load(DATA_DIR + 'y.npy', allow_pickle=True)\n",
        "\n",
        "x_data = []\n",
        "y_data = []\n",
        "\n",
        "# remove the data while labeled by 0 (no testing subject)\n",
        "for video_idx, data in enumerate(y):\n",
        "  delete_idx = []\n",
        "  \n",
        "  for i in range(len(data)):\n",
        "    if data[i] == 0:\n",
        "      delete_idx.append(i)\n",
        "    else:\n",
        "      y[video_idx][i] -= 1 # 1->0, 2->1, 3->2\n",
        "  \n",
        "  y[video_idx] = np.delete(y[video_idx], delete_idx, 0)\n",
        "  x[video_idx] = np.delete(x[video_idx], delete_idx, 0)\n",
        "\n",
        "\n",
        "\n",
        "\n",
        "for seq_idx, data in enumerate(x):\n",
        "  # print(data.shape)\n",
        "  for i in range(TIME_STEPS-1, data.shape[0], 1):\n",
        "    x_data.append(data[i - TIME_STEPS + 1: i+1])\n",
        "    y_data.append(y[seq_idx][i])\n",
        "\n",
        "x_data = np.array(x_data)\n",
        "y_data = np.array(y_data)\n",
        "# use one hot representation\n",
        "\n",
        "notconfused, uncertain, confused = 0,0,0\n",
        "for _, label in enumerate(y_data):\n",
        "  if label == 0:\n",
        "    notconfused += 1\n",
        "  elif label == 1:\n",
        "    uncertain += 1\n",
        "  elif label == 2:\n",
        "    confused += 1\n",
        "  else:\n",
        "    print('[WARNING] Unexpexted label')\n",
        "\n",
        "y_data = tf.one_hot(y_data, depth=3)\n",
        "\n",
        "\n",
        "# shuffle data\n",
        "tf.random.set_seed(5)\n",
        "x_data = tf.random.shuffle(x_data)\n",
        "tf.random.set_seed(5)\n",
        "y_data = tf.random.shuffle(y_data)\n",
        "\n",
        "# split to training and testing data\n",
        "x_training, x_testing = tf.split(x_data, [TRANING_DATA_SIZE, x_data.shape[0] - TRANING_DATA_SIZE], axis=0)\n",
        "y_training, y_testing = tf.split(y_data, [TRANING_DATA_SIZE, y_data.shape[0] - TRANING_DATA_SIZE], axis=0)\n",
        "\n",
        "# normalize (standardlize the training data(x_train and then transform x_testing using the parameters))\n",
        "x_training = tf.reshape(x_training, (-1, FEATURE_DIM))\n",
        "x_testing = tf.reshape(x_testing, (-1, FEATURE_DIM))\n",
        "\n",
        "scaler = StandardScaler() # standard deviation = variance = 1\n",
        "x_training = scaler.fit_transform(x_training)\n",
        "x_testing = scaler.transform(x_testing)\n",
        "\n",
        "x_training = tf.reshape(x_training, (-1, TIME_STEPS, FEATURE_DIM))\n",
        "x_testing = tf.reshape(x_testing, (-1, TIME_STEPS, FEATURE_DIM))\n",
        "print(x_training.shape, x_testing.shape)\n"
      ],
      "execution_count": 9,
      "outputs": [
        {
          "output_type": "stream",
          "text": [
            "12311 17732 13246 0\n",
            "(36000, 21, 6) (7289, 21, 6)\n"
          ],
          "name": "stdout"
        }
      ]
    },
    {
      "cell_type": "code",
      "metadata": {
        "colab": {
          "base_uri": "https://localhost:8080/"
        },
        "id": "9fGNhhFodtSa",
        "outputId": "f2f21bbd-e8e4-4ff4-9a7c-fa41b1b6fa25"
      },
      "source": [
        "GEN_CNN_IMAGE = False\n",
        "IMAGE_SIZE = 64 # For now, the input image will always be a square image\n",
        "x_image_training = np.array(x_training)\n",
        "x_image_testing = np.array(x_testing)\n",
        "\n",
        "x_image_training = x_image_training.reshape(-1, FEATURE_DIM)\n",
        "x_image_testing = x_image_testing.reshape(-1, FEATURE_DIM)\n",
        "\n",
        "scaler = MinMaxScaler(feature_range=(0,255))\n",
        "scaler.fit(x_image_training)\n",
        "\n",
        "x_image_training = scaler.transform(x_image_training)\n",
        "x_image_testing = scaler.transform(x_image_testing)\n",
        "x_image_testing = np.clip(x_image_testing, 0, 255)\n",
        "\n",
        "x_image_training = x_image_training.reshape(-1, TIME_STEPS, FEATURE_DIM)\n",
        "x_image_testing= x_image_testing.reshape(-1, TIME_STEPS, FEATURE_DIM)\n",
        "\n",
        "\n",
        "\n",
        "def makeCnnImage(trans_x, orient_x):\n",
        "  # Make CNN input image\n",
        "  scan_path_images = []\n",
        "  for seq_idx in range(trans_x.shape[0]):\n",
        "    if seq_idx % 10000 == 0:\n",
        "      print(seq_idx)\n",
        "   \n",
        "    trans = trans_x[seq_idx]\n",
        "    orient = orient_x[seq_idx]\n",
        "\n",
        "    # Draw path\n",
        "    scan_path = np.zeros((IMAGE_SIZE, IMAGE_SIZE, 3), dtype=np.uint8)\n",
        "    for i in range(trans.shape[0] - 1):\n",
        "      \n",
        "      orient0, orient1 = orient[i, :], orient[i+1, :]\n",
        "      x0, y0 = int(trans[i, 0]) // 4, int(trans[i, 1]) // 4\n",
        "      x1, y1 = int(trans[i+1, 0]) //4 , int(trans[i+1, 1]) // 4\n",
        "      dist = np.linalg.norm([x1-x0, y1-y0])\n",
        "      \n",
        "      if dist == 0:\n",
        "        scan_path[int(x0), int(y0)] = np.around((orient0 + orient1)/2)\n",
        "      else:\n",
        "        dir_x = (x1-x0) / dist\n",
        "        dir_y = (y1-y0) / dist\n",
        "        for j in range(int(np.around(dist))):\n",
        "            idx_x = x0 + (dir_x * j)\n",
        "            idx_y = y0 + (dir_y * j)\n",
        "\n",
        "            inter_orient_data = (orient0 * np.linalg.norm([x1 - idx_x, y1 - idx_y]) + \\\n",
        "                                orient1 * np.linalg.norm([idx_x - x0, idx_y - y0])) / dist\n",
        "            \n",
        "            scan_path[int(np.around(idx_x)), int(np.around(idx_y))] = [inter_orient_data[0], inter_orient_data[1], inter_orient_data[2]]      \n",
        "        \n",
        "    scan_path_images.append(scan_path)\n",
        "      \n",
        "  scan_path_images = np.asarray(scan_path_images)\n",
        "  return scan_path_images\n",
        "\n",
        "scan_path_image_training = makeCnnImage(x_image_training[:, :, :2], x_image_training[:, :, 3:])\n",
        "scan_path_image_testing = makeCnnImage(x_image_testing[:, :, :2], x_image_testing[:, :, 3:])\n",
        "\n",
        "print(scan_path_image_training.shape, scan_path_image_testing.shape)\n",
        "  \n"
      ],
      "execution_count": 4,
      "outputs": [
        {
          "output_type": "stream",
          "text": [
            "0\n",
            "10000\n",
            "20000\n",
            "30000\n",
            "0\n",
            "(36000, 64, 64, 3) (8423, 64, 64, 3)\n"
          ],
          "name": "stdout"
        }
      ]
    },
    {
      "cell_type": "code",
      "metadata": {
        "id": "LRWxA0W1wSqi"
      },
      "source": [
        "# Model Parameters\n",
        "DATA_DIM = 6 # tr0, tr1, tr2, ori0, ori1, ori2\n",
        "OUTPUT_DIM = 3 #4 kinds of labeling\n",
        "\n",
        "HIDDEN1_UNIT = 128\n",
        "HIDDEN2_UNIT = 64\n",
        "RNN_FC_UNIT = 32\n",
        "CNN_CONV1_UINT = 32\n",
        "CNN_CONV2_UINT = 16\n",
        "CNN_FC_UNIT = 32\n",
        "CONCATE_FC_1 = 16\n",
        "EPOCH = 50\n"
      ],
      "execution_count": 5,
      "outputs": []
    },
    {
      "cell_type": "code",
      "metadata": {
        "colab": {
          "base_uri": "https://localhost:8080/"
        },
        "id": "58a3amm1wYC5",
        "outputId": "0691b284-a0a3-48e3-e953-0fc89e70e47d"
      },
      "source": [
        "\n",
        "# simple LSTM model\n",
        "\n",
        "\n",
        "RnnInput = keras.Input(shape=(TIME_STEPS, FEATURE_DIM), name='RnnInput')\n",
        "lstm1 = keras.layers.LSTM(HIDDEN1_UNIT, return_sequences=True, input_shape=(TIME_STEPS, DATA_DIM))(RnnInput)\n",
        "lstm2 = keras.layers.LSTM(HIDDEN2_UNIT, return_sequences=False)(lstm1)\n",
        "RnnOut = keras.layers.Dense(RNN_FC_UNIT, activation='relu')(lstm2)\n",
        "\n",
        "CnnInput = keras.Input(shape=(IMAGE_SIZE, IMAGE_SIZE, 3), name='CnnInput')\n",
        "conv1 = keras.layers.Conv2D(CNN_CONV1_UINT, (3,3), activation='relu', input_shape=(IMAGE_SIZE, IMAGE_SIZE, 3))(CnnInput)\n",
        "maxpooling1 = keras.layers.MaxPooling2D((2,2))(conv1)\n",
        "conv2 = keras.layers.Conv2D(CNN_CONV2_UINT, (3,3), activation='relu')(maxpooling1)\n",
        "maxpooling2 = keras.layers.MaxPooling2D((2,2))(conv2)\n",
        "flat = keras.layers.Flatten()(maxpooling2)\n",
        "CnnOut = keras.layers.Dense(CNN_FC_UNIT, activation='relu')(flat)\n",
        "\n",
        "concate = keras.layers.concatenate([RnnOut, CnnOut], axis=1)\n",
        "concate1 = keras.layers.Dense(CONCATE_FC_1, activation='relu')(concate)\n",
        "\n",
        "\n",
        "output = keras.layers.Dense(OUTPUT_DIM, activation='softmax')(concate1)\n",
        "model = keras.Model([RnnInput, CnnInput], output)\n",
        "model.compile(optimizer='rmsprop', loss='categorical_crossentropy', metrics=['acc'])\n",
        "model.summary()\n",
        "\n",
        "history = model.fit({'RnnInput': x_training, 'CnnInput': scan_path_image_training}, y_training, \\\n",
        "                    epochs=EPOCH, batch_size=128, validation_split=0.1)\n",
        "\n"
      ],
      "execution_count": 6,
      "outputs": [
        {
          "output_type": "stream",
          "text": [
            "Model: \"functional_1\"\n",
            "__________________________________________________________________________________________________\n",
            "Layer (type)                    Output Shape         Param #     Connected to                     \n",
            "==================================================================================================\n",
            "CnnInput (InputLayer)           [(None, 64, 64, 3)]  0                                            \n",
            "__________________________________________________________________________________________________\n",
            "conv2d (Conv2D)                 (None, 62, 62, 32)   896         CnnInput[0][0]                   \n",
            "__________________________________________________________________________________________________\n",
            "max_pooling2d (MaxPooling2D)    (None, 31, 31, 32)   0           conv2d[0][0]                     \n",
            "__________________________________________________________________________________________________\n",
            "RnnInput (InputLayer)           [(None, 12, 6)]      0                                            \n",
            "__________________________________________________________________________________________________\n",
            "conv2d_1 (Conv2D)               (None, 29, 29, 16)   4624        max_pooling2d[0][0]              \n",
            "__________________________________________________________________________________________________\n",
            "lstm (LSTM)                     (None, 12, 128)      69120       RnnInput[0][0]                   \n",
            "__________________________________________________________________________________________________\n",
            "max_pooling2d_1 (MaxPooling2D)  (None, 14, 14, 16)   0           conv2d_1[0][0]                   \n",
            "__________________________________________________________________________________________________\n",
            "lstm_1 (LSTM)                   (None, 64)           49408       lstm[0][0]                       \n",
            "__________________________________________________________________________________________________\n",
            "flatten (Flatten)               (None, 3136)         0           max_pooling2d_1[0][0]            \n",
            "__________________________________________________________________________________________________\n",
            "dense (Dense)                   (None, 32)           2080        lstm_1[0][0]                     \n",
            "__________________________________________________________________________________________________\n",
            "dense_1 (Dense)                 (None, 32)           100384      flatten[0][0]                    \n",
            "__________________________________________________________________________________________________\n",
            "concatenate (Concatenate)       (None, 64)           0           dense[0][0]                      \n",
            "                                                                 dense_1[0][0]                    \n",
            "__________________________________________________________________________________________________\n",
            "dense_2 (Dense)                 (None, 16)           1040        concatenate[0][0]                \n",
            "__________________________________________________________________________________________________\n",
            "dense_3 (Dense)                 (None, 3)            51          dense_2[0][0]                    \n",
            "==================================================================================================\n",
            "Total params: 227,603\n",
            "Trainable params: 227,603\n",
            "Non-trainable params: 0\n",
            "__________________________________________________________________________________________________\n",
            "Epoch 1/50\n",
            "254/254 [==============================] - 110s 434ms/step - loss: 1.0675 - acc: 0.4570 - val_loss: 1.0156 - val_acc: 0.4872\n",
            "Epoch 2/50\n",
            "254/254 [==============================] - 109s 428ms/step - loss: 0.9304 - acc: 0.5463 - val_loss: 0.9456 - val_acc: 0.5378\n",
            "Epoch 3/50\n",
            "254/254 [==============================] - 109s 431ms/step - loss: 0.8551 - acc: 0.5960 - val_loss: 0.8931 - val_acc: 0.5703\n",
            "Epoch 4/50\n",
            "254/254 [==============================] - 115s 453ms/step - loss: 0.7896 - acc: 0.6396 - val_loss: 0.8692 - val_acc: 0.5992\n",
            "Epoch 5/50\n",
            "254/254 [==============================] - 108s 427ms/step - loss: 0.7421 - acc: 0.6660 - val_loss: 0.8074 - val_acc: 0.6314\n",
            "Epoch 6/50\n",
            "254/254 [==============================] - 109s 431ms/step - loss: 0.7019 - acc: 0.6889 - val_loss: 0.8220 - val_acc: 0.6317\n",
            "Epoch 7/50\n",
            "254/254 [==============================] - 109s 428ms/step - loss: 0.6657 - acc: 0.7064 - val_loss: 0.8000 - val_acc: 0.6500\n",
            "Epoch 8/50\n",
            "254/254 [==============================] - 108s 427ms/step - loss: 0.6391 - acc: 0.7212 - val_loss: 0.9074 - val_acc: 0.6297\n",
            "Epoch 9/50\n",
            "254/254 [==============================] - 108s 427ms/step - loss: 0.6162 - acc: 0.7307 - val_loss: 0.8317 - val_acc: 0.6539\n",
            "Epoch 10/50\n",
            "254/254 [==============================] - 108s 427ms/step - loss: 0.5943 - acc: 0.7400 - val_loss: 0.8408 - val_acc: 0.6517\n",
            "Epoch 11/50\n",
            "254/254 [==============================] - 108s 426ms/step - loss: 0.5807 - acc: 0.7485 - val_loss: 0.8209 - val_acc: 0.6575\n",
            "Epoch 12/50\n",
            "254/254 [==============================] - 108s 427ms/step - loss: 0.5634 - acc: 0.7576 - val_loss: 0.7967 - val_acc: 0.6714\n",
            "Epoch 13/50\n",
            "254/254 [==============================] - 108s 427ms/step - loss: 0.5470 - acc: 0.7661 - val_loss: 0.7894 - val_acc: 0.6775\n",
            "Epoch 14/50\n",
            "254/254 [==============================] - 108s 426ms/step - loss: 0.5357 - acc: 0.7703 - val_loss: 0.7783 - val_acc: 0.6711\n",
            "Epoch 15/50\n",
            "254/254 [==============================] - 108s 426ms/step - loss: 0.5217 - acc: 0.7773 - val_loss: 0.9084 - val_acc: 0.6597\n",
            "Epoch 16/50\n",
            "254/254 [==============================] - 107s 422ms/step - loss: 0.5108 - acc: 0.7808 - val_loss: 0.7851 - val_acc: 0.6842\n",
            "Epoch 17/50\n",
            "254/254 [==============================] - 107s 420ms/step - loss: 0.4986 - acc: 0.7865 - val_loss: 0.8360 - val_acc: 0.6700\n",
            "Epoch 18/50\n",
            "254/254 [==============================] - 107s 421ms/step - loss: 0.4880 - acc: 0.7919 - val_loss: 0.8419 - val_acc: 0.6658\n",
            "Epoch 19/50\n",
            "254/254 [==============================] - 108s 423ms/step - loss: 0.4813 - acc: 0.7960 - val_loss: 0.7640 - val_acc: 0.6864\n",
            "Epoch 20/50\n",
            "254/254 [==============================] - 109s 427ms/step - loss: 0.4695 - acc: 0.7992 - val_loss: 0.8052 - val_acc: 0.6753\n",
            "Epoch 21/50\n",
            "254/254 [==============================] - 108s 424ms/step - loss: 0.4624 - acc: 0.8011 - val_loss: 0.8365 - val_acc: 0.6897\n",
            "Epoch 22/50\n",
            "254/254 [==============================] - 108s 425ms/step - loss: 0.4544 - acc: 0.8063 - val_loss: 0.8137 - val_acc: 0.6886\n",
            "Epoch 23/50\n",
            "254/254 [==============================] - 107s 422ms/step - loss: 0.4458 - acc: 0.8116 - val_loss: 0.8664 - val_acc: 0.6889\n",
            "Epoch 24/50\n",
            "254/254 [==============================] - 107s 421ms/step - loss: 0.4398 - acc: 0.8132 - val_loss: 0.8405 - val_acc: 0.6831\n",
            "Epoch 25/50\n",
            "254/254 [==============================] - 107s 422ms/step - loss: 0.4315 - acc: 0.8157 - val_loss: 0.8023 - val_acc: 0.6950\n",
            "Epoch 26/50\n",
            "254/254 [==============================] - 108s 424ms/step - loss: 0.4271 - acc: 0.8178 - val_loss: 0.8006 - val_acc: 0.7031\n",
            "Epoch 27/50\n",
            "254/254 [==============================] - 108s 423ms/step - loss: 0.4185 - acc: 0.8210 - val_loss: 0.8370 - val_acc: 0.6939\n",
            "Epoch 28/50\n",
            "254/254 [==============================] - 107s 423ms/step - loss: 0.4126 - acc: 0.8231 - val_loss: 0.8332 - val_acc: 0.6961\n",
            "Epoch 29/50\n",
            "254/254 [==============================] - 107s 421ms/step - loss: 0.4080 - acc: 0.8250 - val_loss: 0.8647 - val_acc: 0.6775\n",
            "Epoch 30/50\n",
            "254/254 [==============================] - 107s 421ms/step - loss: 0.4013 - acc: 0.8292 - val_loss: 0.8409 - val_acc: 0.6947\n",
            "Epoch 31/50\n",
            "254/254 [==============================] - 107s 422ms/step - loss: 0.3991 - acc: 0.8305 - val_loss: 0.8427 - val_acc: 0.6967\n",
            "Epoch 32/50\n",
            "254/254 [==============================] - 107s 422ms/step - loss: 0.3910 - acc: 0.8330 - val_loss: 0.8553 - val_acc: 0.7011\n",
            "Epoch 33/50\n",
            "254/254 [==============================] - 107s 421ms/step - loss: 0.3857 - acc: 0.8352 - val_loss: 0.7980 - val_acc: 0.7072\n",
            "Epoch 34/50\n",
            "254/254 [==============================] - 107s 422ms/step - loss: 0.3835 - acc: 0.8364 - val_loss: 0.8050 - val_acc: 0.6989\n",
            "Epoch 35/50\n",
            "254/254 [==============================] - 108s 426ms/step - loss: 0.3818 - acc: 0.8370 - val_loss: 0.7889 - val_acc: 0.7094\n",
            "Epoch 36/50\n",
            "254/254 [==============================] - 108s 427ms/step - loss: 0.3751 - acc: 0.8388 - val_loss: 0.8357 - val_acc: 0.7083\n",
            "Epoch 37/50\n",
            "254/254 [==============================] - 108s 426ms/step - loss: 0.3718 - acc: 0.8411 - val_loss: 0.8376 - val_acc: 0.7039\n",
            "Epoch 38/50\n",
            "254/254 [==============================] - 108s 424ms/step - loss: 0.3656 - acc: 0.8443 - val_loss: 0.8323 - val_acc: 0.6928\n",
            "Epoch 39/50\n",
            "254/254 [==============================] - 108s 424ms/step - loss: 0.3662 - acc: 0.8421 - val_loss: 0.8387 - val_acc: 0.7058\n",
            "Epoch 40/50\n",
            "254/254 [==============================] - 107s 423ms/step - loss: 0.3628 - acc: 0.8436 - val_loss: 0.8244 - val_acc: 0.7053\n",
            "Epoch 41/50\n",
            "254/254 [==============================] - 108s 425ms/step - loss: 0.3557 - acc: 0.8462 - val_loss: 0.8560 - val_acc: 0.6978\n",
            "Epoch 42/50\n",
            "254/254 [==============================] - 108s 424ms/step - loss: 0.3538 - acc: 0.8494 - val_loss: 0.8620 - val_acc: 0.7075\n",
            "Epoch 43/50\n",
            "254/254 [==============================] - 108s 424ms/step - loss: 0.3497 - acc: 0.8495 - val_loss: 0.7898 - val_acc: 0.7256\n",
            "Epoch 44/50\n",
            "254/254 [==============================] - 108s 424ms/step - loss: 0.3467 - acc: 0.8505 - val_loss: 0.8128 - val_acc: 0.7089\n",
            "Epoch 45/50\n",
            "254/254 [==============================] - 108s 424ms/step - loss: 0.3414 - acc: 0.8535 - val_loss: 0.8911 - val_acc: 0.6950\n",
            "Epoch 46/50\n",
            "254/254 [==============================] - 108s 423ms/step - loss: 0.3408 - acc: 0.8545 - val_loss: 0.8481 - val_acc: 0.7033\n",
            "Epoch 47/50\n",
            "254/254 [==============================] - 107s 423ms/step - loss: 0.3351 - acc: 0.8527 - val_loss: 0.8900 - val_acc: 0.7092\n",
            "Epoch 48/50\n",
            "254/254 [==============================] - 108s 424ms/step - loss: 0.3313 - acc: 0.8572 - val_loss: 0.8565 - val_acc: 0.7156\n",
            "Epoch 49/50\n",
            "254/254 [==============================] - 108s 423ms/step - loss: 0.3320 - acc: 0.8572 - val_loss: 0.8300 - val_acc: 0.7086\n",
            "Epoch 50/50\n",
            "254/254 [==============================] - 107s 422ms/step - loss: 0.3314 - acc: 0.8529 - val_loss: 0.8452 - val_acc: 0.7206\n"
          ],
          "name": "stdout"
        }
      ]
    },
    {
      "cell_type": "code",
      "metadata": {
        "id": "l-eAI8fUQlk2",
        "colab": {
          "base_uri": "https://localhost:8080/",
          "height": 641
        },
        "outputId": "ab230c74-9c5a-4f4f-f0a5-acba921d23ed"
      },
      "source": [
        "import matplotlib.pyplot as plt\n",
        "\n",
        "# list all data in history\n",
        "print(history.history.keys())\n",
        "# summarize history for accuracy\n",
        "plt.plot(history.history['acc'])\n",
        "plt.plot(history.history['val_acc'])\n",
        "plt.title('RNN model accuracy')\n",
        "plt.ylabel('accuracy')\n",
        "plt.xlabel('epoch')\n",
        "plt.legend(['train', 'validation'], loc='upper left')\n",
        "plt.show()\n",
        "# summarize history for loss\n",
        "plt.plot(history.history['loss'])\n",
        "plt.plot(history.history['val_loss'])\n",
        "plt.title('RNN loss')\n",
        "plt.ylabel('loss')\n",
        "plt.xlabel('epoch')\n",
        "plt.legend(['train', 'validation'], loc='upper left')\n",
        "plt.show()\n",
        "\n",
        "print(\"Evaluate on test data\")\n",
        "# results = model.evaluate({'RnnInput': x_testing}, y_testing, batch_size=128)\n",
        "results = model.evaluate({'RnnInput': x_testing, 'CnnInput': scan_path_image_testing}, y_testing, batch_size=128)\n",
        "\n",
        "print(\"test loss, test acc:\", results)"
      ],
      "execution_count": 7,
      "outputs": [
        {
          "output_type": "stream",
          "text": [
            "dict_keys(['loss', 'acc', 'val_loss', 'val_acc'])\n"
          ],
          "name": "stdout"
        },
        {
          "output_type": "display_data",
          "data": {
            "image/png": "[encoded data removed]",
            "text/plain": [
              "<Figure size 432x288 with 1 Axes>"
            ]
          },
          "metadata": {
            "tags": [],
            "needs_background": "light"
          }
        },
        {
          "output_type": "display_data",
          "data": {
            "image/png": "[encoded data removed]",
            "text/plain": [
              "<Figure size 432x288 with 1 Axes>"
            ]
          },
          "metadata": {
            "tags": [],
            "needs_background": "light"
          }
        },
        {
          "output_type": "stream",
          "text": [
            "Evaluate on test data\n",
            "66/66 [==============================] - 8s 116ms/step - loss: 0.8529 - acc: 0.7281\n",
            "test loss, test acc: [0.8529351353645325, 0.7281253933906555]\n"
          ],
          "name": "stdout"
        }
      ]
    },
    {
      "cell_type": "code",
      "metadata": {
        "id": "OhnseyBaNa7a"
      },
      "source": [
        ""
      ],
      "execution_count": 15,
      "outputs": []
    }
  ]
}